{
 "cells": [
  {
   "cell_type": "markdown",
   "id": "3c448cb1-3e07-4596-85fa-be017eab6475",
   "metadata": {},
   "source": [
    "# Importing Libs"
   ]
  },
  {
   "cell_type": "code",
   "execution_count": 6,
   "id": "b97532e6-671a-4594-bcf3-bae32d21e37f",
   "metadata": {},
   "outputs": [],
   "source": [
    "import numpy as np\n",
    "import pandas as pd\n",
    "import matplotlib.pyplot as plt"
   ]
  },
  {
   "cell_type": "markdown",
   "id": "4699dd7f-8ac7-44f8-8ae4-a1d9b6875578",
   "metadata": {},
   "source": [
    "# Data Preprocessing"
   ]
  },
  {
   "cell_type": "code",
   "execution_count": 11,
   "id": "0021e07f-5132-48d8-bb2f-55d20ac726a2",
   "metadata": {},
   "outputs": [
    {
     "data": {
      "text/html": [
       "<div>\n",
       "<style scoped>\n",
       "    .dataframe tbody tr th:only-of-type {\n",
       "        vertical-align: middle;\n",
       "    }\n",
       "\n",
       "    .dataframe tbody tr th {\n",
       "        vertical-align: top;\n",
       "    }\n",
       "\n",
       "    .dataframe thead th {\n",
       "        text-align: right;\n",
       "    }\n",
       "</style>\n",
       "<table border=\"1\" class=\"dataframe\">\n",
       "  <thead>\n",
       "    <tr style=\"text-align: right;\">\n",
       "      <th></th>\n",
       "      <th>Date</th>\n",
       "      <th>Open</th>\n",
       "      <th>High</th>\n",
       "      <th>Low</th>\n",
       "      <th>Close</th>\n",
       "      <th>Adj Close</th>\n",
       "      <th>Volume</th>\n",
       "    </tr>\n",
       "  </thead>\n",
       "  <tbody>\n",
       "    <tr>\n",
       "      <th>0</th>\n",
       "      <td>2016-01-04</td>\n",
       "      <td>762.200012</td>\n",
       "      <td>762.200012</td>\n",
       "      <td>747.539978</td>\n",
       "      <td>759.440002</td>\n",
       "      <td>759.440002</td>\n",
       "      <td>3369100</td>\n",
       "    </tr>\n",
       "    <tr>\n",
       "      <th>1</th>\n",
       "      <td>2016-01-05</td>\n",
       "      <td>764.099976</td>\n",
       "      <td>769.200012</td>\n",
       "      <td>755.650024</td>\n",
       "      <td>761.530029</td>\n",
       "      <td>761.530029</td>\n",
       "      <td>2260800</td>\n",
       "    </tr>\n",
       "    <tr>\n",
       "      <th>2</th>\n",
       "      <td>2016-01-06</td>\n",
       "      <td>750.369995</td>\n",
       "      <td>765.729980</td>\n",
       "      <td>748.000000</td>\n",
       "      <td>759.330017</td>\n",
       "      <td>759.330017</td>\n",
       "      <td>2410300</td>\n",
       "    </tr>\n",
       "    <tr>\n",
       "      <th>3</th>\n",
       "      <td>2016-01-07</td>\n",
       "      <td>746.489990</td>\n",
       "      <td>755.309998</td>\n",
       "      <td>735.280029</td>\n",
       "      <td>741.000000</td>\n",
       "      <td>741.000000</td>\n",
       "      <td>3156600</td>\n",
       "    </tr>\n",
       "    <tr>\n",
       "      <th>4</th>\n",
       "      <td>2016-01-08</td>\n",
       "      <td>747.799988</td>\n",
       "      <td>750.119995</td>\n",
       "      <td>728.919983</td>\n",
       "      <td>730.909973</td>\n",
       "      <td>730.909973</td>\n",
       "      <td>2375300</td>\n",
       "    </tr>\n",
       "    <tr>\n",
       "      <th>...</th>\n",
       "      <td>...</td>\n",
       "      <td>...</td>\n",
       "      <td>...</td>\n",
       "      <td>...</td>\n",
       "      <td>...</td>\n",
       "      <td>...</td>\n",
       "      <td>...</td>\n",
       "    </tr>\n",
       "    <tr>\n",
       "      <th>1545</th>\n",
       "      <td>2022-02-22</td>\n",
       "      <td>2596.760010</td>\n",
       "      <td>2643.610107</td>\n",
       "      <td>2564.469971</td>\n",
       "      <td>2596.270020</td>\n",
       "      <td>2596.270020</td>\n",
       "      <td>2249500</td>\n",
       "    </tr>\n",
       "    <tr>\n",
       "      <th>1546</th>\n",
       "      <td>2022-02-23</td>\n",
       "      <td>2632.969971</td>\n",
       "      <td>2641.020020</td>\n",
       "      <td>2550.550049</td>\n",
       "      <td>2551.760010</td>\n",
       "      <td>2551.760010</td>\n",
       "      <td>1639300</td>\n",
       "    </tr>\n",
       "    <tr>\n",
       "      <th>1547</th>\n",
       "      <td>2022-02-24</td>\n",
       "      <td>2499.070068</td>\n",
       "      <td>2660.000000</td>\n",
       "      <td>2499.070068</td>\n",
       "      <td>2653.820068</td>\n",
       "      <td>2653.820068</td>\n",
       "      <td>2722800</td>\n",
       "    </tr>\n",
       "    <tr>\n",
       "      <th>1548</th>\n",
       "      <td>2022-02-25</td>\n",
       "      <td>2671.040039</td>\n",
       "      <td>2705.429932</td>\n",
       "      <td>2635.030029</td>\n",
       "      <td>2689.189941</td>\n",
       "      <td>2689.189941</td>\n",
       "      <td>1820300</td>\n",
       "    </tr>\n",
       "    <tr>\n",
       "      <th>1549</th>\n",
       "      <td>2022-02-28</td>\n",
       "      <td>2661.000000</td>\n",
       "      <td>2715.030029</td>\n",
       "      <td>2651.850098</td>\n",
       "      <td>2701.139893</td>\n",
       "      <td>2701.139893</td>\n",
       "      <td>1939400</td>\n",
       "    </tr>\n",
       "  </tbody>\n",
       "</table>\n",
       "<p>1550 rows × 7 columns</p>\n",
       "</div>"
      ],
      "text/plain": [
       "            Date         Open         High          Low        Close  \\\n",
       "0     2016-01-04   762.200012   762.200012   747.539978   759.440002   \n",
       "1     2016-01-05   764.099976   769.200012   755.650024   761.530029   \n",
       "2     2016-01-06   750.369995   765.729980   748.000000   759.330017   \n",
       "3     2016-01-07   746.489990   755.309998   735.280029   741.000000   \n",
       "4     2016-01-08   747.799988   750.119995   728.919983   730.909973   \n",
       "...          ...          ...          ...          ...          ...   \n",
       "1545  2022-02-22  2596.760010  2643.610107  2564.469971  2596.270020   \n",
       "1546  2022-02-23  2632.969971  2641.020020  2550.550049  2551.760010   \n",
       "1547  2022-02-24  2499.070068  2660.000000  2499.070068  2653.820068   \n",
       "1548  2022-02-25  2671.040039  2705.429932  2635.030029  2689.189941   \n",
       "1549  2022-02-28  2661.000000  2715.030029  2651.850098  2701.139893   \n",
       "\n",
       "        Adj Close   Volume  \n",
       "0      759.440002  3369100  \n",
       "1      761.530029  2260800  \n",
       "2      759.330017  2410300  \n",
       "3      741.000000  3156600  \n",
       "4      730.909973  2375300  \n",
       "...           ...      ...  \n",
       "1545  2596.270020  2249500  \n",
       "1546  2551.760010  1639300  \n",
       "1547  2653.820068  2722800  \n",
       "1548  2689.189941  1820300  \n",
       "1549  2701.139893  1939400  \n",
       "\n",
       "[1550 rows x 7 columns]"
      ]
     },
     "execution_count": 11,
     "metadata": {},
     "output_type": "execute_result"
    }
   ],
   "source": [
    "df_train = pd.read_csv('/Users/harmansingh/AI Engineering/Deep Learning/Recurrent Neural Networks (RNN)/Project /Google_train.csv')\n",
    "df_train"
   ]
  },
  {
   "cell_type": "code",
   "execution_count": 13,
   "id": "6ef0ebef-6c6b-4439-b69b-d490a0c56330",
   "metadata": {
    "scrolled": true
   },
   "outputs": [
    {
     "data": {
      "text/html": [
       "<div>\n",
       "<style scoped>\n",
       "    .dataframe tbody tr th:only-of-type {\n",
       "        vertical-align: middle;\n",
       "    }\n",
       "\n",
       "    .dataframe tbody tr th {\n",
       "        vertical-align: top;\n",
       "    }\n",
       "\n",
       "    .dataframe thead th {\n",
       "        text-align: right;\n",
       "    }\n",
       "</style>\n",
       "<table border=\"1\" class=\"dataframe\">\n",
       "  <thead>\n",
       "    <tr style=\"text-align: right;\">\n",
       "      <th></th>\n",
       "      <th>Date</th>\n",
       "      <th>Open</th>\n",
       "      <th>High</th>\n",
       "      <th>Low</th>\n",
       "      <th>Close</th>\n",
       "      <th>Adj Close</th>\n",
       "      <th>Volume</th>\n",
       "    </tr>\n",
       "  </thead>\n",
       "  <tbody>\n",
       "    <tr>\n",
       "      <th>0</th>\n",
       "      <td>2022-03-01</td>\n",
       "      <td>2697.570068</td>\n",
       "      <td>2725.110107</td>\n",
       "      <td>2664.370117</td>\n",
       "      <td>2681.229980</td>\n",
       "      <td>2681.229980</td>\n",
       "      <td>1324800</td>\n",
       "    </tr>\n",
       "    <tr>\n",
       "      <th>1</th>\n",
       "      <td>2022-03-02</td>\n",
       "      <td>2692.560059</td>\n",
       "      <td>2705.250000</td>\n",
       "      <td>2661.429932</td>\n",
       "      <td>2691.429932</td>\n",
       "      <td>2691.429932</td>\n",
       "      <td>1176000</td>\n",
       "    </tr>\n",
       "    <tr>\n",
       "      <th>2</th>\n",
       "      <td>2022-03-03</td>\n",
       "      <td>2720.199951</td>\n",
       "      <td>2728.790039</td>\n",
       "      <td>2660.510010</td>\n",
       "      <td>2677.989990</td>\n",
       "      <td>2677.989990</td>\n",
       "      <td>1230200</td>\n",
       "    </tr>\n",
       "    <tr>\n",
       "      <th>3</th>\n",
       "      <td>2022-03-04</td>\n",
       "      <td>2658.550049</td>\n",
       "      <td>2677.030029</td>\n",
       "      <td>2606.750000</td>\n",
       "      <td>2638.129883</td>\n",
       "      <td>2638.129883</td>\n",
       "      <td>1521500</td>\n",
       "    </tr>\n",
       "    <tr>\n",
       "      <th>4</th>\n",
       "      <td>2022-03-07</td>\n",
       "      <td>2629.760010</td>\n",
       "      <td>2634.699951</td>\n",
       "      <td>2525.899902</td>\n",
       "      <td>2527.570068</td>\n",
       "      <td>2527.570068</td>\n",
       "      <td>2255600</td>\n",
       "    </tr>\n",
       "    <tr>\n",
       "      <th>5</th>\n",
       "      <td>2022-03-08</td>\n",
       "      <td>2525.000000</td>\n",
       "      <td>2625.000000</td>\n",
       "      <td>2513.489990</td>\n",
       "      <td>2542.090088</td>\n",
       "      <td>2542.090088</td>\n",
       "      <td>2021400</td>\n",
       "    </tr>\n",
       "    <tr>\n",
       "      <th>6</th>\n",
       "      <td>2022-03-09</td>\n",
       "      <td>2625.000000</td>\n",
       "      <td>2674.709961</td>\n",
       "      <td>2598.010010</td>\n",
       "      <td>2668.399902</td>\n",
       "      <td>2668.399902</td>\n",
       "      <td>1851300</td>\n",
       "    </tr>\n",
       "    <tr>\n",
       "      <th>7</th>\n",
       "      <td>2022-03-10</td>\n",
       "      <td>2625.320068</td>\n",
       "      <td>2665.439941</td>\n",
       "      <td>2618.250000</td>\n",
       "      <td>2648.590088</td>\n",
       "      <td>2648.590088</td>\n",
       "      <td>1355100</td>\n",
       "    </tr>\n",
       "    <tr>\n",
       "      <th>8</th>\n",
       "      <td>2022-03-11</td>\n",
       "      <td>2669.770020</td>\n",
       "      <td>2675.909912</td>\n",
       "      <td>2592.629883</td>\n",
       "      <td>2597.409912</td>\n",
       "      <td>2597.409912</td>\n",
       "      <td>1572700</td>\n",
       "    </tr>\n",
       "    <tr>\n",
       "      <th>9</th>\n",
       "      <td>2022-03-14</td>\n",
       "      <td>2605.000000</td>\n",
       "      <td>2608.179932</td>\n",
       "      <td>2505.500000</td>\n",
       "      <td>2519.020020</td>\n",
       "      <td>2519.020020</td>\n",
       "      <td>1940600</td>\n",
       "    </tr>\n",
       "    <tr>\n",
       "      <th>10</th>\n",
       "      <td>2022-03-15</td>\n",
       "      <td>2539.520020</td>\n",
       "      <td>2597.090088</td>\n",
       "      <td>2514.409912</td>\n",
       "      <td>2583.959961</td>\n",
       "      <td>2583.959961</td>\n",
       "      <td>1546000</td>\n",
       "    </tr>\n",
       "    <tr>\n",
       "      <th>11</th>\n",
       "      <td>2022-03-16</td>\n",
       "      <td>2614.659912</td>\n",
       "      <td>2666.659912</td>\n",
       "      <td>2574.689941</td>\n",
       "      <td>2665.610107</td>\n",
       "      <td>2665.610107</td>\n",
       "      <td>1778800</td>\n",
       "    </tr>\n",
       "    <tr>\n",
       "      <th>12</th>\n",
       "      <td>2022-03-17</td>\n",
       "      <td>2662.979980</td>\n",
       "      <td>2681.610107</td>\n",
       "      <td>2643.699951</td>\n",
       "      <td>2676.780029</td>\n",
       "      <td>2676.780029</td>\n",
       "      <td>1413200</td>\n",
       "    </tr>\n",
       "    <tr>\n",
       "      <th>13</th>\n",
       "      <td>2022-03-18</td>\n",
       "      <td>2668.489990</td>\n",
       "      <td>2724.879883</td>\n",
       "      <td>2645.169922</td>\n",
       "      <td>2722.510010</td>\n",
       "      <td>2722.510010</td>\n",
       "      <td>2223100</td>\n",
       "    </tr>\n",
       "    <tr>\n",
       "      <th>14</th>\n",
       "      <td>2022-03-21</td>\n",
       "      <td>2723.270020</td>\n",
       "      <td>2741.000000</td>\n",
       "      <td>2681.850098</td>\n",
       "      <td>2722.030029</td>\n",
       "      <td>2722.030029</td>\n",
       "      <td>1341600</td>\n",
       "    </tr>\n",
       "    <tr>\n",
       "      <th>15</th>\n",
       "      <td>2022-03-22</td>\n",
       "      <td>2722.030029</td>\n",
       "      <td>2821.000000</td>\n",
       "      <td>2722.030029</td>\n",
       "      <td>2797.360107</td>\n",
       "      <td>2797.360107</td>\n",
       "      <td>1774800</td>\n",
       "    </tr>\n",
       "    <tr>\n",
       "      <th>16</th>\n",
       "      <td>2022-03-23</td>\n",
       "      <td>2774.050049</td>\n",
       "      <td>2791.770020</td>\n",
       "      <td>2756.699951</td>\n",
       "      <td>2765.510010</td>\n",
       "      <td>2765.510010</td>\n",
       "      <td>1257700</td>\n",
       "    </tr>\n",
       "    <tr>\n",
       "      <th>17</th>\n",
       "      <td>2022-03-24</td>\n",
       "      <td>2784.000000</td>\n",
       "      <td>2832.379883</td>\n",
       "      <td>2755.010010</td>\n",
       "      <td>2831.439941</td>\n",
       "      <td>2831.439941</td>\n",
       "      <td>1317900</td>\n",
       "    </tr>\n",
       "  </tbody>\n",
       "</table>\n",
       "</div>"
      ],
      "text/plain": [
       "          Date         Open         High          Low        Close  \\\n",
       "0   2022-03-01  2697.570068  2725.110107  2664.370117  2681.229980   \n",
       "1   2022-03-02  2692.560059  2705.250000  2661.429932  2691.429932   \n",
       "2   2022-03-03  2720.199951  2728.790039  2660.510010  2677.989990   \n",
       "3   2022-03-04  2658.550049  2677.030029  2606.750000  2638.129883   \n",
       "4   2022-03-07  2629.760010  2634.699951  2525.899902  2527.570068   \n",
       "5   2022-03-08  2525.000000  2625.000000  2513.489990  2542.090088   \n",
       "6   2022-03-09  2625.000000  2674.709961  2598.010010  2668.399902   \n",
       "7   2022-03-10  2625.320068  2665.439941  2618.250000  2648.590088   \n",
       "8   2022-03-11  2669.770020  2675.909912  2592.629883  2597.409912   \n",
       "9   2022-03-14  2605.000000  2608.179932  2505.500000  2519.020020   \n",
       "10  2022-03-15  2539.520020  2597.090088  2514.409912  2583.959961   \n",
       "11  2022-03-16  2614.659912  2666.659912  2574.689941  2665.610107   \n",
       "12  2022-03-17  2662.979980  2681.610107  2643.699951  2676.780029   \n",
       "13  2022-03-18  2668.489990  2724.879883  2645.169922  2722.510010   \n",
       "14  2022-03-21  2723.270020  2741.000000  2681.850098  2722.030029   \n",
       "15  2022-03-22  2722.030029  2821.000000  2722.030029  2797.360107   \n",
       "16  2022-03-23  2774.050049  2791.770020  2756.699951  2765.510010   \n",
       "17  2022-03-24  2784.000000  2832.379883  2755.010010  2831.439941   \n",
       "\n",
       "      Adj Close   Volume  \n",
       "0   2681.229980  1324800  \n",
       "1   2691.429932  1176000  \n",
       "2   2677.989990  1230200  \n",
       "3   2638.129883  1521500  \n",
       "4   2527.570068  2255600  \n",
       "5   2542.090088  2021400  \n",
       "6   2668.399902  1851300  \n",
       "7   2648.590088  1355100  \n",
       "8   2597.409912  1572700  \n",
       "9   2519.020020  1940600  \n",
       "10  2583.959961  1546000  \n",
       "11  2665.610107  1778800  \n",
       "12  2676.780029  1413200  \n",
       "13  2722.510010  2223100  \n",
       "14  2722.030029  1341600  \n",
       "15  2797.360107  1774800  \n",
       "16  2765.510010  1257700  \n",
       "17  2831.439941  1317900  "
      ]
     },
     "execution_count": 13,
     "metadata": {},
     "output_type": "execute_result"
    }
   ],
   "source": [
    "df_test = pd.read_csv('/Users/harmansingh/AI Engineering/Deep Learning/Recurrent Neural Networks (RNN)/Project /Google_test.csv')\n",
    "df_test"
   ]
  },
  {
   "cell_type": "code",
   "execution_count": 72,
   "id": "6d67a768-9802-42b6-8b12-c48b52b875de",
   "metadata": {},
   "outputs": [],
   "source": [
    "training_set = df_train.iloc[:,1:2].values\n",
    "real_set = df_test.iloc[:,1:2].values"
   ]
  },
  {
   "cell_type": "code",
   "execution_count": 19,
   "id": "1d6c48d9-a0f9-45ed-8079-ed88d3a92c66",
   "metadata": {},
   "outputs": [
    {
     "data": {
      "text/plain": [
       "array([[ 762.200012],\n",
       "       [ 764.099976],\n",
       "       [ 750.369995],\n",
       "       ...,\n",
       "       [2499.070068],\n",
       "       [2671.040039],\n",
       "       [2661.      ]])"
      ]
     },
     "execution_count": 19,
     "metadata": {},
     "output_type": "execute_result"
    }
   ],
   "source": [
    "training_set"
   ]
  },
  {
   "cell_type": "code",
   "execution_count": 73,
   "id": "93a16393-bb90-4652-a301-b49a49e12e16",
   "metadata": {
    "scrolled": true
   },
   "outputs": [
    {
     "data": {
      "text/plain": [
       "array([[2697.570068],\n",
       "       [2692.560059],\n",
       "       [2720.199951],\n",
       "       [2658.550049],\n",
       "       [2629.76001 ],\n",
       "       [2525.      ],\n",
       "       [2625.      ],\n",
       "       [2625.320068],\n",
       "       [2669.77002 ],\n",
       "       [2605.      ],\n",
       "       [2539.52002 ],\n",
       "       [2614.659912],\n",
       "       [2662.97998 ],\n",
       "       [2668.48999 ],\n",
       "       [2723.27002 ],\n",
       "       [2722.030029],\n",
       "       [2774.050049],\n",
       "       [2784.      ]])"
      ]
     },
     "execution_count": 73,
     "metadata": {},
     "output_type": "execute_result"
    }
   ],
   "source": [
    "real_set"
   ]
  },
  {
   "cell_type": "markdown",
   "id": "59eb6e99-5085-474f-901e-8e86c44671fe",
   "metadata": {},
   "source": [
    "## Feature Scaling"
   ]
  },
  {
   "cell_type": "code",
   "execution_count": 26,
   "id": "e78b4e1c-9f38-42d4-b632-f48868823beb",
   "metadata": {},
   "outputs": [],
   "source": [
    "from sklearn.preprocessing import MinMaxScaler\n",
    "sc = MinMaxScaler()\n",
    "training_set_scaled= sc.fit_transform(training_set)"
   ]
  },
  {
   "cell_type": "markdown",
   "id": "cdbd041f-7ed0-4604-9c2c-2f27aaa43edc",
   "metadata": {},
   "source": [
    "# Creating Data Structure"
   ]
  },
  {
   "cell_type": "code",
   "execution_count": 31,
   "id": "1391b2de-e8b6-410d-9ab1-2570d360a262",
   "metadata": {},
   "outputs": [
    {
     "name": "stdout",
     "output_type": "stream",
     "text": [
      "(1490, 60)\n"
     ]
    }
   ],
   "source": [
    "x_train=[]\n",
    "y_train=[]\n",
    "\n",
    "for i in range(60,1550):\n",
    "    x_train.append( training_set_scaled[i-60:i,0] )\n",
    "    y_train.append( training_set_scaled[i,0] )\n",
    "\n",
    "x_train, y_train = np.array(x_train), np.array(y_train)\n",
    "print(x_train.shape)"
   ]
  },
  {
   "cell_type": "markdown",
   "id": "a6eadf14-1cef-4815-ab8c-d5047214deb6",
   "metadata": {},
   "source": [
    "## Reshaping"
   ]
  },
  {
   "cell_type": "code",
   "execution_count": 35,
   "id": "38510351-5596-4836-93c1-aa56cfc205b9",
   "metadata": {},
   "outputs": [
    {
     "name": "stdout",
     "output_type": "stream",
     "text": [
      "(1490, 60, 1)\n"
     ]
    }
   ],
   "source": [
    "x_train = x_train.reshape( (x_train.shape[0], x_train.shape[1], 1) )\n",
    "print(x_train.shape)"
   ]
  },
  {
   "cell_type": "markdown",
   "id": "2a0ea162-d5aa-4b3a-9604-a22c5ccf70cc",
   "metadata": {},
   "source": [
    "# Building RNN"
   ]
  },
  {
   "cell_type": "code",
   "execution_count": 40,
   "id": "05011260-0e07-41c0-980c-dadc8c53688c",
   "metadata": {},
   "outputs": [],
   "source": [
    "from keras.models import Sequential\n",
    "from keras.layers import LSTM, Dense, Dropout"
   ]
  },
  {
   "cell_type": "code",
   "execution_count": 43,
   "id": "b2ac1f66-8ed0-4f11-a006-0a3ce0f1d4bb",
   "metadata": {},
   "outputs": [
    {
     "name": "stderr",
     "output_type": "stream",
     "text": [
      "2025-09-14 23:16:59.311396: I metal_plugin/src/device/metal_device.cc:1154] Metal device set to: Apple M2\n",
      "2025-09-14 23:16:59.312186: I metal_plugin/src/device/metal_device.cc:296] systemMemory: 16.00 GB\n",
      "2025-09-14 23:16:59.312216: I metal_plugin/src/device/metal_device.cc:313] maxCacheSize: 5.33 GB\n",
      "2025-09-14 23:16:59.312396: I tensorflow/core/common_runtime/pluggable_device/pluggable_device_factory.cc:306] Could not identify NUMA node of platform GPU ID 0, defaulting to 0. Your kernel may not have been built with NUMA support.\n",
      "2025-09-14 23:16:59.312496: I tensorflow/core/common_runtime/pluggable_device/pluggable_device_factory.cc:272] Created TensorFlow device (/job:localhost/replica:0/task:0/device:GPU:0 with 0 MB memory) -> physical PluggableDevice (device: 0, name: METAL, pci bus id: <undefined>)\n"
     ]
    }
   ],
   "source": [
    "regressor = Sequential()"
   ]
  },
  {
   "cell_type": "code",
   "execution_count": 46,
   "id": "419686ca-0354-4120-a6e9-d7673d554db8",
   "metadata": {},
   "outputs": [
    {
     "name": "stderr",
     "output_type": "stream",
     "text": [
      "2025-09-14 23:17:07.980070: I tensorflow/core/common_runtime/executor.cc:1197] [/device:CPU:0] (DEBUG INFO) Executor start aborting (this does not indicate an error and you can ignore this message): INVALID_ARGUMENT: You must feed a value for placeholder tensor 'gradients/split_2_grad/concat/split_2/split_dim' with dtype int32\n",
      "\t [[{{node gradients/split_2_grad/concat/split_2/split_dim}}]]\n",
      "2025-09-14 23:17:07.981006: I tensorflow/core/common_runtime/executor.cc:1197] [/device:CPU:0] (DEBUG INFO) Executor start aborting (this does not indicate an error and you can ignore this message): INVALID_ARGUMENT: You must feed a value for placeholder tensor 'gradients/split_grad/concat/split/split_dim' with dtype int32\n",
      "\t [[{{node gradients/split_grad/concat/split/split_dim}}]]\n",
      "2025-09-14 23:17:07.981572: I tensorflow/core/common_runtime/executor.cc:1197] [/device:CPU:0] (DEBUG INFO) Executor start aborting (this does not indicate an error and you can ignore this message): INVALID_ARGUMENT: You must feed a value for placeholder tensor 'gradients/split_1_grad/concat/split_1/split_dim' with dtype int32\n",
      "\t [[{{node gradients/split_1_grad/concat/split_1/split_dim}}]]\n"
     ]
    }
   ],
   "source": [
    "# Adding LSTM layer\n",
    "regressor.add( LSTM( units =64, activation = 'tanh', recurrent_activation = 'sigmoid', return_sequences=True, input_shape= (x_train.shape[1], 1)))\n",
    "regressor.add( Dropout(0.2) )"
   ]
  },
  {
   "cell_type": "code",
   "execution_count": 49,
   "id": "5897ab16-28b9-4fcf-84e9-cfa686b3e353",
   "metadata": {},
   "outputs": [
    {
     "name": "stderr",
     "output_type": "stream",
     "text": [
      "2025-09-14 23:17:16.627787: I tensorflow/core/common_runtime/executor.cc:1197] [/device:CPU:0] (DEBUG INFO) Executor start aborting (this does not indicate an error and you can ignore this message): INVALID_ARGUMENT: You must feed a value for placeholder tensor 'gradients/split_2_grad/concat/split_2/split_dim' with dtype int32\n",
      "\t [[{{node gradients/split_2_grad/concat/split_2/split_dim}}]]\n",
      "2025-09-14 23:17:16.628727: I tensorflow/core/common_runtime/executor.cc:1197] [/device:CPU:0] (DEBUG INFO) Executor start aborting (this does not indicate an error and you can ignore this message): INVALID_ARGUMENT: You must feed a value for placeholder tensor 'gradients/split_grad/concat/split/split_dim' with dtype int32\n",
      "\t [[{{node gradients/split_grad/concat/split/split_dim}}]]\n",
      "2025-09-14 23:17:16.629210: I tensorflow/core/common_runtime/executor.cc:1197] [/device:CPU:0] (DEBUG INFO) Executor start aborting (this does not indicate an error and you can ignore this message): INVALID_ARGUMENT: You must feed a value for placeholder tensor 'gradients/split_1_grad/concat/split_1/split_dim' with dtype int32\n",
      "\t [[{{node gradients/split_1_grad/concat/split_1/split_dim}}]]\n"
     ]
    }
   ],
   "source": [
    "# Adding Second Layer\n",
    "regressor.add( LSTM( units =64, activation = 'tanh', recurrent_activation = 'sigmoid', return_sequences=True ) )\n",
    "regressor.add( Dropout(0.2) )"
   ]
  },
  {
   "cell_type": "code",
   "execution_count": 52,
   "id": "ce045df8-b05b-4c80-af31-f4b611bbf0e1",
   "metadata": {},
   "outputs": [
    {
     "name": "stderr",
     "output_type": "stream",
     "text": [
      "2025-09-14 23:17:24.737030: I tensorflow/core/common_runtime/executor.cc:1197] [/device:CPU:0] (DEBUG INFO) Executor start aborting (this does not indicate an error and you can ignore this message): INVALID_ARGUMENT: You must feed a value for placeholder tensor 'gradients/split_2_grad/concat/split_2/split_dim' with dtype int32\n",
      "\t [[{{node gradients/split_2_grad/concat/split_2/split_dim}}]]\n",
      "2025-09-14 23:17:24.738082: I tensorflow/core/common_runtime/executor.cc:1197] [/device:CPU:0] (DEBUG INFO) Executor start aborting (this does not indicate an error and you can ignore this message): INVALID_ARGUMENT: You must feed a value for placeholder tensor 'gradients/split_grad/concat/split/split_dim' with dtype int32\n",
      "\t [[{{node gradients/split_grad/concat/split/split_dim}}]]\n",
      "2025-09-14 23:17:24.738709: I tensorflow/core/common_runtime/executor.cc:1197] [/device:CPU:0] (DEBUG INFO) Executor start aborting (this does not indicate an error and you can ignore this message): INVALID_ARGUMENT: You must feed a value for placeholder tensor 'gradients/split_1_grad/concat/split_1/split_dim' with dtype int32\n",
      "\t [[{{node gradients/split_1_grad/concat/split_1/split_dim}}]]\n"
     ]
    }
   ],
   "source": [
    "# Adding Third Layer\n",
    "regressor.add( LSTM( units =64, activation = 'tanh', recurrent_activation = 'sigmoid', return_sequences=True ) )\n",
    "regressor.add( Dropout(0.2) )"
   ]
  },
  {
   "cell_type": "code",
   "execution_count": 55,
   "id": "02062b4b-5808-4640-9627-ee33f48dcb9a",
   "metadata": {},
   "outputs": [
    {
     "name": "stderr",
     "output_type": "stream",
     "text": [
      "2025-09-14 23:17:35.334999: I tensorflow/core/common_runtime/executor.cc:1197] [/device:CPU:0] (DEBUG INFO) Executor start aborting (this does not indicate an error and you can ignore this message): INVALID_ARGUMENT: You must feed a value for placeholder tensor 'gradients/split_2_grad/concat/split_2/split_dim' with dtype int32\n",
      "\t [[{{node gradients/split_2_grad/concat/split_2/split_dim}}]]\n",
      "2025-09-14 23:17:35.335947: I tensorflow/core/common_runtime/executor.cc:1197] [/device:CPU:0] (DEBUG INFO) Executor start aborting (this does not indicate an error and you can ignore this message): INVALID_ARGUMENT: You must feed a value for placeholder tensor 'gradients/split_grad/concat/split/split_dim' with dtype int32\n",
      "\t [[{{node gradients/split_grad/concat/split/split_dim}}]]\n",
      "2025-09-14 23:17:35.336468: I tensorflow/core/common_runtime/executor.cc:1197] [/device:CPU:0] (DEBUG INFO) Executor start aborting (this does not indicate an error and you can ignore this message): INVALID_ARGUMENT: You must feed a value for placeholder tensor 'gradients/split_1_grad/concat/split_1/split_dim' with dtype int32\n",
      "\t [[{{node gradients/split_1_grad/concat/split_1/split_dim}}]]\n"
     ]
    }
   ],
   "source": [
    "# Adding Fourth Layer\n",
    "regressor.add( LSTM( units =64, activation = 'tanh', recurrent_activation = 'sigmoid') )\n",
    "regressor.add( Dropout(0.2) )"
   ]
  },
  {
   "cell_type": "code",
   "execution_count": 58,
   "id": "8e2247e3-18f4-409d-85df-d2f882f7d58c",
   "metadata": {},
   "outputs": [],
   "source": [
    "# Output Layer\n",
    "regressor.add( Dense(1) )"
   ]
  },
  {
   "cell_type": "markdown",
   "id": "29fab940-5bcd-4503-9a61-3661023fda21",
   "metadata": {},
   "source": [
    "# Compile RNN"
   ]
  },
  {
   "cell_type": "code",
   "execution_count": 62,
   "id": "c65db389-bbc3-479f-89e6-e68ccbac4708",
   "metadata": {},
   "outputs": [],
   "source": [
    "regressor.compile( optimizer='adam', loss= 'mean_squared_error')"
   ]
  },
  {
   "cell_type": "markdown",
   "id": "4261d6c8-a471-4f5d-baab-842617784181",
   "metadata": {},
   "source": [
    "# Fitting RNN"
   ]
  },
  {
   "cell_type": "code",
   "execution_count": 66,
   "id": "964ebe81-0bf9-4942-8b96-9e5b3e8c4230",
   "metadata": {
    "scrolled": true
   },
   "outputs": [
    {
     "name": "stdout",
     "output_type": "stream",
     "text": [
      "Epoch 1/100\n"
     ]
    },
    {
     "name": "stderr",
     "output_type": "stream",
     "text": [
      "2025-09-14 23:18:27.891635: I tensorflow/core/common_runtime/executor.cc:1197] [/device:CPU:0] (DEBUG INFO) Executor start aborting (this does not indicate an error and you can ignore this message): INVALID_ARGUMENT: You must feed a value for placeholder tensor 'gradients/split_2_grad/concat/split_2/split_dim' with dtype int32\n",
      "\t [[{{node gradients/split_2_grad/concat/split_2/split_dim}}]]\n",
      "2025-09-14 23:18:27.892646: I tensorflow/core/common_runtime/executor.cc:1197] [/device:CPU:0] (DEBUG INFO) Executor start aborting (this does not indicate an error and you can ignore this message): INVALID_ARGUMENT: You must feed a value for placeholder tensor 'gradients/split_grad/concat/split/split_dim' with dtype int32\n",
      "\t [[{{node gradients/split_grad/concat/split/split_dim}}]]\n",
      "2025-09-14 23:18:27.893233: I tensorflow/core/common_runtime/executor.cc:1197] [/device:CPU:0] (DEBUG INFO) Executor start aborting (this does not indicate an error and you can ignore this message): INVALID_ARGUMENT: You must feed a value for placeholder tensor 'gradients/split_1_grad/concat/split_1/split_dim' with dtype int32\n",
      "\t [[{{node gradients/split_1_grad/concat/split_1/split_dim}}]]\n",
      "2025-09-14 23:18:27.971834: I tensorflow/core/common_runtime/executor.cc:1197] [/device:CPU:0] (DEBUG INFO) Executor start aborting (this does not indicate an error and you can ignore this message): INVALID_ARGUMENT: You must feed a value for placeholder tensor 'gradients/split_2_grad/concat/split_2/split_dim' with dtype int32\n",
      "\t [[{{node gradients/split_2_grad/concat/split_2/split_dim}}]]\n",
      "2025-09-14 23:18:27.972385: I tensorflow/core/common_runtime/executor.cc:1197] [/device:CPU:0] (DEBUG INFO) Executor start aborting (this does not indicate an error and you can ignore this message): INVALID_ARGUMENT: You must feed a value for placeholder tensor 'gradients/split_grad/concat/split/split_dim' with dtype int32\n",
      "\t [[{{node gradients/split_grad/concat/split/split_dim}}]]\n",
      "2025-09-14 23:18:27.972929: I tensorflow/core/common_runtime/executor.cc:1197] [/device:CPU:0] (DEBUG INFO) Executor start aborting (this does not indicate an error and you can ignore this message): INVALID_ARGUMENT: You must feed a value for placeholder tensor 'gradients/split_1_grad/concat/split_1/split_dim' with dtype int32\n",
      "\t [[{{node gradients/split_1_grad/concat/split_1/split_dim}}]]\n",
      "2025-09-14 23:18:28.052591: I tensorflow/core/common_runtime/executor.cc:1197] [/device:CPU:0] (DEBUG INFO) Executor start aborting (this does not indicate an error and you can ignore this message): INVALID_ARGUMENT: You must feed a value for placeholder tensor 'gradients/split_2_grad/concat/split_2/split_dim' with dtype int32\n",
      "\t [[{{node gradients/split_2_grad/concat/split_2/split_dim}}]]\n",
      "2025-09-14 23:18:28.053199: I tensorflow/core/common_runtime/executor.cc:1197] [/device:CPU:0] (DEBUG INFO) Executor start aborting (this does not indicate an error and you can ignore this message): INVALID_ARGUMENT: You must feed a value for placeholder tensor 'gradients/split_grad/concat/split/split_dim' with dtype int32\n",
      "\t [[{{node gradients/split_grad/concat/split/split_dim}}]]\n",
      "2025-09-14 23:18:28.053696: I tensorflow/core/common_runtime/executor.cc:1197] [/device:CPU:0] (DEBUG INFO) Executor start aborting (this does not indicate an error and you can ignore this message): INVALID_ARGUMENT: You must feed a value for placeholder tensor 'gradients/split_1_grad/concat/split_1/split_dim' with dtype int32\n",
      "\t [[{{node gradients/split_1_grad/concat/split_1/split_dim}}]]\n",
      "2025-09-14 23:18:28.135044: I tensorflow/core/common_runtime/executor.cc:1197] [/device:CPU:0] (DEBUG INFO) Executor start aborting (this does not indicate an error and you can ignore this message): INVALID_ARGUMENT: You must feed a value for placeholder tensor 'gradients/split_2_grad/concat/split_2/split_dim' with dtype int32\n",
      "\t [[{{node gradients/split_2_grad/concat/split_2/split_dim}}]]\n",
      "2025-09-14 23:18:28.136018: I tensorflow/core/common_runtime/executor.cc:1197] [/device:CPU:0] (DEBUG INFO) Executor start aborting (this does not indicate an error and you can ignore this message): INVALID_ARGUMENT: You must feed a value for placeholder tensor 'gradients/split_grad/concat/split/split_dim' with dtype int32\n",
      "\t [[{{node gradients/split_grad/concat/split/split_dim}}]]\n",
      "2025-09-14 23:18:28.136537: I tensorflow/core/common_runtime/executor.cc:1197] [/device:CPU:0] (DEBUG INFO) Executor start aborting (this does not indicate an error and you can ignore this message): INVALID_ARGUMENT: You must feed a value for placeholder tensor 'gradients/split_1_grad/concat/split_1/split_dim' with dtype int32\n",
      "\t [[{{node gradients/split_1_grad/concat/split_1/split_dim}}]]\n",
      "2025-09-14 23:18:28.764683: I tensorflow/core/common_runtime/executor.cc:1197] [/device:CPU:0] (DEBUG INFO) Executor start aborting (this does not indicate an error and you can ignore this message): INVALID_ARGUMENT: You must feed a value for placeholder tensor 'gradients/split_2_grad/concat/split_2/split_dim' with dtype int32\n",
      "\t [[{{node gradients/split_2_grad/concat/split_2/split_dim}}]]\n",
      "2025-09-14 23:18:28.765733: I tensorflow/core/common_runtime/executor.cc:1197] [/device:CPU:0] (DEBUG INFO) Executor start aborting (this does not indicate an error and you can ignore this message): INVALID_ARGUMENT: You must feed a value for placeholder tensor 'gradients/split_grad/concat/split/split_dim' with dtype int32\n",
      "\t [[{{node gradients/split_grad/concat/split/split_dim}}]]\n",
      "2025-09-14 23:18:28.766324: I tensorflow/core/common_runtime/executor.cc:1197] [/device:CPU:0] (DEBUG INFO) Executor start aborting (this does not indicate an error and you can ignore this message): INVALID_ARGUMENT: You must feed a value for placeholder tensor 'gradients/split_1_grad/concat/split_1/split_dim' with dtype int32\n",
      "\t [[{{node gradients/split_1_grad/concat/split_1/split_dim}}]]\n",
      "2025-09-14 23:18:28.845975: I tensorflow/core/common_runtime/executor.cc:1197] [/device:CPU:0] (DEBUG INFO) Executor start aborting (this does not indicate an error and you can ignore this message): INVALID_ARGUMENT: You must feed a value for placeholder tensor 'gradients/split_2_grad/concat/split_2/split_dim' with dtype int32\n",
      "\t [[{{node gradients/split_2_grad/concat/split_2/split_dim}}]]\n",
      "2025-09-14 23:18:28.846663: I tensorflow/core/common_runtime/executor.cc:1197] [/device:CPU:0] (DEBUG INFO) Executor start aborting (this does not indicate an error and you can ignore this message): INVALID_ARGUMENT: You must feed a value for placeholder tensor 'gradients/split_grad/concat/split/split_dim' with dtype int32\n",
      "\t [[{{node gradients/split_grad/concat/split/split_dim}}]]\n",
      "2025-09-14 23:18:28.847319: I tensorflow/core/common_runtime/executor.cc:1197] [/device:CPU:0] (DEBUG INFO) Executor start aborting (this does not indicate an error and you can ignore this message): INVALID_ARGUMENT: You must feed a value for placeholder tensor 'gradients/split_1_grad/concat/split_1/split_dim' with dtype int32\n",
      "\t [[{{node gradients/split_1_grad/concat/split_1/split_dim}}]]\n",
      "2025-09-14 23:18:28.930925: I tensorflow/core/common_runtime/executor.cc:1197] [/device:CPU:0] (DEBUG INFO) Executor start aborting (this does not indicate an error and you can ignore this message): INVALID_ARGUMENT: You must feed a value for placeholder tensor 'gradients/split_2_grad/concat/split_2/split_dim' with dtype int32\n",
      "\t [[{{node gradients/split_2_grad/concat/split_2/split_dim}}]]\n",
      "2025-09-14 23:18:28.931669: I tensorflow/core/common_runtime/executor.cc:1197] [/device:CPU:0] (DEBUG INFO) Executor start aborting (this does not indicate an error and you can ignore this message): INVALID_ARGUMENT: You must feed a value for placeholder tensor 'gradients/split_grad/concat/split/split_dim' with dtype int32\n",
      "\t [[{{node gradients/split_grad/concat/split/split_dim}}]]\n",
      "2025-09-14 23:18:28.932183: I tensorflow/core/common_runtime/executor.cc:1197] [/device:CPU:0] (DEBUG INFO) Executor start aborting (this does not indicate an error and you can ignore this message): INVALID_ARGUMENT: You must feed a value for placeholder tensor 'gradients/split_1_grad/concat/split_1/split_dim' with dtype int32\n",
      "\t [[{{node gradients/split_1_grad/concat/split_1/split_dim}}]]\n",
      "2025-09-14 23:18:29.021303: I tensorflow/core/common_runtime/executor.cc:1197] [/device:CPU:0] (DEBUG INFO) Executor start aborting (this does not indicate an error and you can ignore this message): INVALID_ARGUMENT: You must feed a value for placeholder tensor 'gradients/split_2_grad/concat/split_2/split_dim' with dtype int32\n",
      "\t [[{{node gradients/split_2_grad/concat/split_2/split_dim}}]]\n",
      "2025-09-14 23:18:29.022392: I tensorflow/core/common_runtime/executor.cc:1197] [/device:CPU:0] (DEBUG INFO) Executor start aborting (this does not indicate an error and you can ignore this message): INVALID_ARGUMENT: You must feed a value for placeholder tensor 'gradients/split_grad/concat/split/split_dim' with dtype int32\n",
      "\t [[{{node gradients/split_grad/concat/split/split_dim}}]]\n",
      "2025-09-14 23:18:29.022997: I tensorflow/core/common_runtime/executor.cc:1197] [/device:CPU:0] (DEBUG INFO) Executor start aborting (this does not indicate an error and you can ignore this message): INVALID_ARGUMENT: You must feed a value for placeholder tensor 'gradients/split_1_grad/concat/split_1/split_dim' with dtype int32\n",
      "\t [[{{node gradients/split_1_grad/concat/split_1/split_dim}}]]\n",
      "2025-09-14 23:18:29.572106: I tensorflow/core/grappler/optimizers/custom_graph_optimizer_registry.cc:114] Plugin optimizer for device_type GPU is enabled.\n",
      "2025-09-14 23:18:29.731604: E tensorflow/core/grappler/optimizers/meta_optimizer.cc:954] model_pruner failed: INVALID_ARGUMENT: Graph does not contain terminal node AssignAddVariableOp_10.\n",
      "2025-09-14 23:18:29.942132: I tensorflow/core/grappler/optimizers/custom_graph_optimizer_registry.cc:114] Plugin optimizer for device_type GPU is enabled.\n",
      "2025-09-14 23:18:30.041329: I tensorflow/core/grappler/optimizers/custom_graph_optimizer_registry.cc:114] Plugin optimizer for device_type GPU is enabled.\n",
      "2025-09-14 23:18:30.118086: I tensorflow/core/grappler/optimizers/custom_graph_optimizer_registry.cc:114] Plugin optimizer for device_type GPU is enabled.\n",
      "2025-09-14 23:18:30.193208: I tensorflow/core/grappler/optimizers/custom_graph_optimizer_registry.cc:114] Plugin optimizer for device_type GPU is enabled.\n",
      "2025-09-14 23:18:30.378037: I tensorflow/core/grappler/optimizers/custom_graph_optimizer_registry.cc:114] Plugin optimizer for device_type GPU is enabled.\n",
      "2025-09-14 23:18:30.544829: I tensorflow/core/grappler/optimizers/custom_graph_optimizer_registry.cc:114] Plugin optimizer for device_type GPU is enabled.\n",
      "2025-09-14 23:18:30.673184: I tensorflow/core/grappler/optimizers/custom_graph_optimizer_registry.cc:114] Plugin optimizer for device_type GPU is enabled.\n"
     ]
    },
    {
     "name": "stdout",
     "output_type": "stream",
     "text": [
      " 3/94 [..............................] - ETA: 2s - loss: 0.0973  "
     ]
    },
    {
     "name": "stderr",
     "output_type": "stream",
     "text": [
      "2025-09-14 23:18:30.795347: I tensorflow/core/grappler/optimizers/custom_graph_optimizer_registry.cc:114] Plugin optimizer for device_type GPU is enabled.\n"
     ]
    },
    {
     "name": "stdout",
     "output_type": "stream",
     "text": [
      "94/94 [==============================] - 6s 30ms/step - loss: 0.0083\n",
      "Epoch 2/100\n",
      "94/94 [==============================] - 3s 28ms/step - loss: 0.0015\n",
      "Epoch 3/100\n",
      "94/94 [==============================] - 3s 28ms/step - loss: 0.0016\n",
      "Epoch 4/100\n",
      "94/94 [==============================] - 3s 27ms/step - loss: 0.0016\n",
      "Epoch 5/100\n",
      "94/94 [==============================] - 3s 28ms/step - loss: 9.7609e-04\n",
      "Epoch 6/100\n",
      "94/94 [==============================] - 3s 28ms/step - loss: 8.8755e-04\n",
      "Epoch 7/100\n",
      "94/94 [==============================] - 3s 28ms/step - loss: 8.8577e-04\n",
      "Epoch 8/100\n",
      "94/94 [==============================] - 3s 28ms/step - loss: 9.0809e-04\n",
      "Epoch 9/100\n",
      "94/94 [==============================] - 3s 28ms/step - loss: 8.8285e-04\n",
      "Epoch 10/100\n",
      "94/94 [==============================] - 3s 28ms/step - loss: 7.5782e-04\n",
      "Epoch 11/100\n",
      "94/94 [==============================] - 3s 28ms/step - loss: 8.2837e-04\n",
      "Epoch 12/100\n",
      "94/94 [==============================] - 3s 28ms/step - loss: 7.5457e-04\n",
      "Epoch 13/100\n",
      "94/94 [==============================] - 3s 28ms/step - loss: 9.2474e-04\n",
      "Epoch 14/100\n",
      "94/94 [==============================] - 3s 27ms/step - loss: 0.0010\n",
      "Epoch 15/100\n",
      "94/94 [==============================] - 3s 29ms/step - loss: 6.5634e-04\n",
      "Epoch 16/100\n",
      "94/94 [==============================] - 3s 28ms/step - loss: 5.9745e-04\n",
      "Epoch 17/100\n",
      "94/94 [==============================] - 3s 28ms/step - loss: 6.3086e-04\n",
      "Epoch 18/100\n",
      "94/94 [==============================] - 3s 29ms/step - loss: 6.5774e-04\n",
      "Epoch 19/100\n",
      "94/94 [==============================] - 3s 28ms/step - loss: 5.9802e-04\n",
      "Epoch 20/100\n",
      "94/94 [==============================] - 3s 28ms/step - loss: 6.5220e-04\n",
      "Epoch 21/100\n",
      "94/94 [==============================] - 3s 27ms/step - loss: 5.8110e-04\n",
      "Epoch 22/100\n",
      "94/94 [==============================] - 3s 27ms/step - loss: 7.6494e-04\n",
      "Epoch 23/100\n",
      "94/94 [==============================] - 3s 27ms/step - loss: 6.0240e-04\n",
      "Epoch 24/100\n",
      "94/94 [==============================] - 3s 27ms/step - loss: 4.6705e-04\n",
      "Epoch 25/100\n",
      "94/94 [==============================] - 3s 27ms/step - loss: 5.8604e-04\n",
      "Epoch 26/100\n",
      "94/94 [==============================] - 3s 27ms/step - loss: 5.0260e-04\n",
      "Epoch 27/100\n",
      "94/94 [==============================] - 3s 28ms/step - loss: 5.5452e-04\n",
      "Epoch 28/100\n",
      "94/94 [==============================] - 3s 27ms/step - loss: 4.4054e-04\n",
      "Epoch 29/100\n",
      "94/94 [==============================] - 3s 28ms/step - loss: 5.0047e-04\n",
      "Epoch 30/100\n",
      "94/94 [==============================] - 3s 28ms/step - loss: 6.1482e-04\n",
      "Epoch 31/100\n",
      "94/94 [==============================] - 3s 28ms/step - loss: 4.9105e-04\n",
      "Epoch 32/100\n",
      "94/94 [==============================] - 3s 28ms/step - loss: 3.8478e-04\n",
      "Epoch 33/100\n",
      "94/94 [==============================] - 3s 27ms/step - loss: 4.2090e-04\n",
      "Epoch 34/100\n",
      "94/94 [==============================] - 3s 27ms/step - loss: 3.7308e-04\n",
      "Epoch 35/100\n",
      "94/94 [==============================] - 3s 28ms/step - loss: 4.2105e-04\n",
      "Epoch 36/100\n",
      "94/94 [==============================] - 3s 28ms/step - loss: 4.5185e-04\n",
      "Epoch 37/100\n",
      "94/94 [==============================] - 3s 27ms/step - loss: 4.9594e-04\n",
      "Epoch 38/100\n",
      "94/94 [==============================] - 3s 28ms/step - loss: 3.2658e-04\n",
      "Epoch 39/100\n",
      "94/94 [==============================] - 3s 28ms/step - loss: 3.6709e-04\n",
      "Epoch 40/100\n",
      "94/94 [==============================] - 3s 28ms/step - loss: 3.1548e-04\n",
      "Epoch 41/100\n",
      "94/94 [==============================] - 3s 27ms/step - loss: 4.5678e-04\n",
      "Epoch 42/100\n",
      "94/94 [==============================] - 3s 28ms/step - loss: 3.3197e-04\n",
      "Epoch 43/100\n",
      "94/94 [==============================] - 3s 28ms/step - loss: 3.2363e-04\n",
      "Epoch 44/100\n",
      "94/94 [==============================] - 3s 27ms/step - loss: 4.5589e-04\n",
      "Epoch 45/100\n",
      "94/94 [==============================] - 3s 27ms/step - loss: 4.3486e-04\n",
      "Epoch 46/100\n",
      "94/94 [==============================] - 3s 28ms/step - loss: 4.5508e-04\n",
      "Epoch 47/100\n",
      "94/94 [==============================] - 3s 27ms/step - loss: 2.8952e-04\n",
      "Epoch 48/100\n",
      "94/94 [==============================] - 3s 28ms/step - loss: 2.7929e-04\n",
      "Epoch 49/100\n",
      "94/94 [==============================] - 3s 28ms/step - loss: 3.4461e-04\n",
      "Epoch 50/100\n",
      "94/94 [==============================] - 3s 28ms/step - loss: 2.9936e-04\n",
      "Epoch 51/100\n",
      "94/94 [==============================] - 3s 28ms/step - loss: 3.4988e-04\n",
      "Epoch 52/100\n",
      "94/94 [==============================] - 3s 27ms/step - loss: 2.7341e-04\n",
      "Epoch 53/100\n",
      "94/94 [==============================] - 3s 28ms/step - loss: 2.9374e-04\n",
      "Epoch 54/100\n",
      "94/94 [==============================] - 3s 28ms/step - loss: 3.3870e-04\n",
      "Epoch 55/100\n",
      "94/94 [==============================] - 3s 27ms/step - loss: 2.5730e-04\n",
      "Epoch 56/100\n",
      "94/94 [==============================] - 3s 28ms/step - loss: 2.5443e-04\n",
      "Epoch 57/100\n",
      "94/94 [==============================] - 3s 27ms/step - loss: 3.1371e-04\n",
      "Epoch 58/100\n",
      "94/94 [==============================] - 3s 28ms/step - loss: 2.6822e-04\n",
      "Epoch 59/100\n",
      "94/94 [==============================] - 3s 28ms/step - loss: 2.8887e-04\n",
      "Epoch 60/100\n",
      "94/94 [==============================] - 3s 27ms/step - loss: 2.8168e-04\n",
      "Epoch 61/100\n",
      "94/94 [==============================] - 3s 27ms/step - loss: 2.4743e-04\n",
      "Epoch 62/100\n",
      "94/94 [==============================] - 3s 28ms/step - loss: 2.7936e-04\n",
      "Epoch 63/100\n",
      "94/94 [==============================] - 3s 28ms/step - loss: 2.3615e-04\n",
      "Epoch 64/100\n",
      "94/94 [==============================] - 3s 28ms/step - loss: 2.2482e-04\n",
      "Epoch 65/100\n",
      "94/94 [==============================] - 3s 27ms/step - loss: 2.7500e-04\n",
      "Epoch 66/100\n",
      "94/94 [==============================] - 3s 28ms/step - loss: 3.0592e-04\n",
      "Epoch 67/100\n",
      "94/94 [==============================] - 3s 28ms/step - loss: 3.3451e-04\n",
      "Epoch 68/100\n",
      "94/94 [==============================] - 3s 27ms/step - loss: 2.7044e-04\n",
      "Epoch 69/100\n",
      "94/94 [==============================] - 3s 28ms/step - loss: 1.8492e-04\n",
      "Epoch 70/100\n",
      "94/94 [==============================] - 3s 27ms/step - loss: 2.3020e-04\n",
      "Epoch 71/100\n",
      "94/94 [==============================] - 3s 28ms/step - loss: 2.6926e-04\n",
      "Epoch 72/100\n",
      "94/94 [==============================] - 3s 28ms/step - loss: 2.7272e-04\n",
      "Epoch 73/100\n",
      "94/94 [==============================] - 3s 28ms/step - loss: 2.2705e-04\n",
      "Epoch 74/100\n",
      "94/94 [==============================] - 3s 28ms/step - loss: 2.5398e-04\n",
      "Epoch 75/100\n",
      "94/94 [==============================] - 3s 28ms/step - loss: 2.1713e-04\n",
      "Epoch 76/100\n",
      "94/94 [==============================] - 3s 28ms/step - loss: 2.4673e-04\n",
      "Epoch 77/100\n",
      "94/94 [==============================] - 3s 28ms/step - loss: 2.4175e-04\n",
      "Epoch 78/100\n",
      "94/94 [==============================] - 3s 28ms/step - loss: 2.2105e-04\n",
      "Epoch 79/100\n",
      "94/94 [==============================] - 3s 27ms/step - loss: 3.1781e-04\n",
      "Epoch 80/100\n",
      "94/94 [==============================] - 3s 27ms/step - loss: 2.2323e-04\n",
      "Epoch 81/100\n",
      "94/94 [==============================] - 3s 28ms/step - loss: 2.4893e-04\n",
      "Epoch 82/100\n",
      "94/94 [==============================] - 3s 28ms/step - loss: 2.8172e-04\n",
      "Epoch 83/100\n",
      "94/94 [==============================] - 3s 28ms/step - loss: 1.9935e-04\n",
      "Epoch 84/100\n",
      "94/94 [==============================] - 3s 28ms/step - loss: 2.4577e-04\n",
      "Epoch 85/100\n",
      "94/94 [==============================] - 3s 28ms/step - loss: 2.1065e-04\n",
      "Epoch 86/100\n",
      "94/94 [==============================] - 3s 28ms/step - loss: 2.4057e-04\n",
      "Epoch 87/100\n",
      "94/94 [==============================] - 3s 28ms/step - loss: 2.4318e-04\n",
      "Epoch 88/100\n",
      "94/94 [==============================] - 3s 28ms/step - loss: 2.1488e-04\n",
      "Epoch 89/100\n",
      "94/94 [==============================] - 3s 27ms/step - loss: 1.9946e-04\n",
      "Epoch 90/100\n",
      "94/94 [==============================] - 3s 28ms/step - loss: 2.2922e-04\n",
      "Epoch 91/100\n",
      "94/94 [==============================] - 3s 27ms/step - loss: 3.0472e-04\n",
      "Epoch 92/100\n",
      "94/94 [==============================] - 3s 28ms/step - loss: 2.3691e-04\n",
      "Epoch 93/100\n",
      "94/94 [==============================] - 3s 28ms/step - loss: 4.1190e-04\n",
      "Epoch 94/100\n",
      "94/94 [==============================] - 3s 29ms/step - loss: 2.5231e-04\n",
      "Epoch 95/100\n",
      "94/94 [==============================] - 3s 29ms/step - loss: 2.0079e-04\n",
      "Epoch 96/100\n",
      "94/94 [==============================] - 3s 28ms/step - loss: 2.4039e-04\n",
      "Epoch 97/100\n",
      "94/94 [==============================] - 3s 28ms/step - loss: 1.9195e-04\n",
      "Epoch 98/100\n",
      "94/94 [==============================] - 3s 27ms/step - loss: 1.9488e-04\n",
      "Epoch 99/100\n",
      "94/94 [==============================] - 3s 28ms/step - loss: 2.0183e-04\n",
      "Epoch 100/100\n",
      "94/94 [==============================] - 3s 27ms/step - loss: 2.1108e-04\n"
     ]
    },
    {
     "data": {
      "text/plain": [
       "<keras.callbacks.History at 0x1c5a34c10>"
      ]
     },
     "execution_count": 66,
     "metadata": {},
     "output_type": "execute_result"
    }
   ],
   "source": [
    "regressor.fit( x_train, y_train, batch_size=16, epochs=100)"
   ]
  },
  {
   "cell_type": "markdown",
   "id": "7c374b49-50f9-4776-9d05-f4c3ac8f35dd",
   "metadata": {},
   "source": [
    "# Making Predictions and Visualizing the Results"
   ]
  },
  {
   "cell_type": "markdown",
   "id": "df53050a-de2a-405e-89f4-eb521b39d609",
   "metadata": {},
   "source": [
    "## Making Complete Dataset"
   ]
  },
  {
   "cell_type": "code",
   "execution_count": 77,
   "id": "f1b63309-f50d-42bf-921a-bc3e90f844c9",
   "metadata": {},
   "outputs": [],
   "source": [
    "df_total = pd.concat( (df_train['Open'], df_test['Open']), axis=0)"
   ]
  },
  {
   "cell_type": "markdown",
   "id": "8a6b1fb7-1396-4e69-bdc9-9753486c27bf",
   "metadata": {},
   "source": [
    "## Making Test set"
   ]
  },
  {
   "cell_type": "code",
   "execution_count": 107,
   "id": "cf549342-7b3b-45ca-9c5c-2b42b7a5b509",
   "metadata": {},
   "outputs": [],
   "source": [
    "inputs = df_total[ len(df_total) - len(df_test) - 60: ].values\n",
    "inputs = inputs.reshape(-1,1)\n",
    "inputs = sc.transform ( inputs)"
   ]
  },
  {
   "cell_type": "code",
   "execution_count": 109,
   "id": "107a141b-abc6-4a56-8d3a-6f9a6ea47b70",
   "metadata": {},
   "outputs": [],
   "source": [
    "x_test=[]\n",
    "for i in range (60,78):\n",
    "    x_test.append( inputs[i-60:i,0] )\n",
    "\n",
    "x_test = np.array(x_test)"
   ]
  },
  {
   "cell_type": "code",
   "execution_count": 111,
   "id": "6dcb0514-5e9d-466b-a749-f714fddbb205",
   "metadata": {},
   "outputs": [],
   "source": [
    "x_test = x_test.reshape( (x_test.shape[0], x_test.shape[1], 1) )"
   ]
  },
  {
   "cell_type": "markdown",
   "id": "200d6e56-8af2-4693-8c2b-28f8beed3d6b",
   "metadata": {},
   "source": [
    "## Prediction"
   ]
  },
  {
   "cell_type": "code",
   "execution_count": 114,
   "id": "b70bb504-a3b4-4e1a-8dd2-98269625449b",
   "metadata": {
    "scrolled": true
   },
   "outputs": [
    {
     "name": "stdout",
     "output_type": "stream",
     "text": [
      "1/1 [==============================] - 0s 30ms/step\n"
     ]
    }
   ],
   "source": [
    "predicted_stock_price = regressor.predict(x_test)"
   ]
  },
  {
   "cell_type": "code",
   "execution_count": 116,
   "id": "8218acb8-ee30-44c0-acc9-c8a8804db7f8",
   "metadata": {},
   "outputs": [],
   "source": [
    "predicted_stock_price = sc.inverse_transform(predicted_stock_price )"
   ]
  },
  {
   "cell_type": "markdown",
   "id": "efb1b422-8e10-46ca-810c-fb0d5f3b9ef6",
   "metadata": {},
   "source": [
    "## Visualizing"
   ]
  },
  {
   "cell_type": "code",
   "execution_count": 119,
   "id": "2e573384-aab3-4c63-8a40-e4048037d09b",
   "metadata": {},
   "outputs": [
    {
     "data": {
      "image/png": "[encoded data removed]",
      "text/plain": [
       "<Figure size 640x480 with 1 Axes>"
      ]
     },
     "metadata": {},
     "output_type": "display_data"
    }
   ],
   "source": [
    "# Real Stock Price\n",
    "plt.plot( real_set, color='red', label='Real Stock Price') \n",
    "plt.xlabel('Time')\n",
    "plt.ylabel(' Google Stock Price (Real)' )\n",
    "plt.legend()\n",
    "plt.show()"
   ]
  },
  {
   "cell_type": "code",
   "execution_count": 121,
   "id": "a87feaf9-2132-4161-9698-6ccb02f3d357",
   "metadata": {},
   "outputs": [
    {
     "data": {
      "image/png": "[encoded data removed]",
      "text/plain": [
       "<Figure size 640x480 with 1 Axes>"
      ]
     },
     "metadata": {},
     "output_type": "display_data"
    }
   ],
   "source": [
    "# Predicted Stock Price\n",
    "plt.plot( predicted_stock_price, color='blue', label='Predicted Stock Price') \n",
    "plt.xlabel('Time')\n",
    "plt.ylabel(' Google Stock Price (predicted)' )\n",
    "plt.legend()\n",
    "plt.show()"
   ]
  },
  {
   "cell_type": "code",
   "execution_count": 123,
   "id": "31f46467-fd78-47e7-bebe-ae5f4bf98911",
   "metadata": {},
   "outputs": [
    {
     "data": {
      "image/png": "[encoded data removed]",
      "text/plain": [
       "<Figure size 1000x800 with 1 Axes>"
      ]
     },
     "metadata": {},
     "output_type": "display_data"
    }
   ],
   "source": [
    "# Comparing these Two\n",
    "plt.figure(figsize=(10,8))\n",
    "plt.plot( real_set, color='red', label='Real Stock Price') \n",
    "plt.plot( predicted_stock_price, color='blue', label='Predicted Stock Price') \n",
    "plt.title( 'Google Stock Price Prediction' )\n",
    "plt.xlabel('Time')\n",
    "plt.ylabel(' Google Stock Price' )\n",
    "plt.legend()\n",
    "plt.show()"
   ]
  },
  {
   "cell_type": "code",
   "execution_count": null,
   "id": "305f6906-e66d-4631-bc09-0f0ba8c72654",
   "metadata": {},
   "outputs": [],
   "source": []
  }
 ],
 "metadata": {
  "kernelspec": {
   "display_name": "Python (tf-m1)",
   "language": "python",
   "name": "tf-m1"
  },
  "language_info": {
   "codemirror_mode": {
    "name": "ipython",
    "version": 3
   },
   "file_extension": ".py",
   "mimetype": "text/x-python",
   "name": "python",
   "nbconvert_exporter": "python",
   "pygments_lexer": "ipython3",
   "version": "3.9.23"
  }
 },
 "nbformat": 4,
 "nbformat_minor": 5
}
